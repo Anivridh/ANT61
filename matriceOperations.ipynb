{
 "cells": [
  {
   "cell_type": "code",
   "execution_count": null,
   "metadata": {},
   "outputs": [],
   "source": [
    "import numpy as np\n",
    "a = np.array([[50,2,3], [4,5,6], [7,8,9], [10,21,50], [13,14,15], [16,17,18], [19, 20, 3]])\n",
    "print(a)"
   ]
  },
  {
   "cell_type": "markdown",
   "metadata": {},
   "source": [
    "1. You are given a matrix of random numbers, you need to output the matrix where odd rows are swapped with even rows in the original matrix"
   ]
  },
  {
   "cell_type": "code",
   "execution_count": null,
   "metadata": {},
   "outputs": [],
   "source": [
    "for i in range(0, len(a)):\n",
    "    if(i == len(a) - 1): \n",
    "        break\n",
    "    if (i % 2 == 0):\n",
    "        a[[i, i+1]] = a[[i+1, i]]\n",
    "print(a)"
   ]
  },
  {
   "cell_type": "markdown",
   "metadata": {},
   "source": [
    "2. You are given a matrix of random numbers, you need to find the number of the column which has the biggest number"
   ]
  },
  {
   "cell_type": "code",
   "execution_count": null,
   "metadata": {},
   "outputs": [],
   "source": [
    "max = a[0,0]\n",
    "colNum = 0\n",
    "for row in a:\n",
    "    colCounter = 0\n",
    "    for col in row:\n",
    "        if (col > max):\n",
    "            max = col\n",
    "            colNum = colCounter\n",
    "        colCounter += 1\n",
    "print(\"Column with biggest number is \" + str(colNum))"
   ]
  },
  {
   "cell_type": "markdown",
   "metadata": {},
   "source": [
    "3. You are given a matrix of random numbers, you need to find the number of the column which has the biggest sum of numbers"
   ]
  },
  {
   "cell_type": "code",
   "execution_count": null,
   "metadata": {},
   "outputs": [],
   "source": [
    "maxSum = 0\n",
    "colNum = 0\n",
    "for c in range(0, len(a[0])):\n",
    "    sum = 0\n",
    "    for r in range(0, len(a)):\n",
    "        sum += a[r, c]\n",
    "    if (sum > maxSum):\n",
    "        maxSum = sum\n",
    "        colNum = c\n",
    "print(\"Column with biggest sum of numbers is \" + str(colNum))"
   ]
  },
  {
   "cell_type": "markdown",
   "metadata": {},
   "source": [
    "4. You are given a matrix of random numbers, you need to find the number of the column which has the biggest median of numbers"
   ]
  },
  {
   "cell_type": "code",
   "execution_count": null,
   "metadata": {},
   "outputs": [],
   "source": [
    "maxMedian = 0\n",
    "colNum = 0\n",
    "numRows = len(a)\n",
    "numCols =  len(a[0])\n",
    "for c in range(0, numCols):\n",
    "    temp = np.zeros(numRows)\n",
    "    for r in range(0, numRows):\n",
    "        temp[r] = a[r, c]\n",
    "    med = np.median(temp)\n",
    "    print(\"median for column \" + str(c) + \" is \" + str(med))\n",
    "    if (med > maxMedian):\n",
    "        maxMedian = med\n",
    "        colNum = c\n",
    "print(\"Column with biggest median of numbers is \" + str(colNum))"
   ]
  },
  {
   "cell_type": "markdown",
   "metadata": {},
   "source": [
    "7. You are given the size of a matrix (e.g. width and height for 2D) and the coordinate of the start and the end of the line segment. Write a function that returns the matrix which has 1 where the line pixels should be and 0 where they shouldn’t. \n",
    "Draw the matrix as a graphical output. Start with 2d and experiment with higher dimensions."
   ]
  },
  {
   "cell_type": "code",
   "execution_count": null,
   "metadata": {},
   "outputs": [],
   "source": [
    "import numpy as np\n",
    "import matplotlib.pyplot as plt\n",
    "\n",
    "height = int(input(\"Enter height of matrix: \"))\n",
    "width = int(input(\"Enter width of matrix: \"))\n",
    "start = tuple(int(x.strip()) for x in input(\"Enter starting coordinates of the line segment: \").split(','))\n",
    "end = tuple(int(x.strip()) for x in input(\"Enter ending coordinates of the line segment: \").split(','))\n",
    "\n",
    "matrix = np.zeros((height, width))\n",
    "# Dot\n",
    "if (start == end):\n",
    "    matrix[start[0], end[0]] = 1\n",
    "# Horizontal line:\n",
    "elif (start[0] == end[0]):\n",
    "    if (start[1] > end[1]):\n",
    "        temp = start[1]\n",
    "        start = (start[0], end[1])\n",
    "        end = (end[0], temp)\n",
    "    for h in range (0, height):\n",
    "        if (h == start[0]):\n",
    "            for w in range (0, width):\n",
    "                if (w >=start[1] and w <= end[1]):\n",
    "                    matrix[start[0], w] = 1\n",
    "# Vertical line:\n",
    "elif (start[1] == end[1]):\n",
    "    if (start[0] > end[0]):\n",
    "        temp = start[0]\n",
    "        start = (end[0], start[1])\n",
    "        end = (temp, end[1])\n",
    "    for w in range (0, width):\n",
    "        if (w == start[1]):\n",
    "            for h in range (0, height):\n",
    "                if (h >= start[0] and h <= end[0]):\n",
    "                    matrix[h, start[1]] = 1\n",
    "# Leading Diagonal line\n",
    "elif (start[0] == start[1] and end[0] == end[1]):\n",
    "    if (start[0] > end[0]):\n",
    "        temp = start\n",
    "        start = (end[0], end[1])\n",
    "        end = (temp[0], temp[1])\n",
    "    for h in range (0, height):\n",
    "        for w in range (0, width):\n",
    "            if (h == w and h >= start[0] and h <= end[0]):\n",
    "                matrix[h, w] = 1\n",
    "\n",
    "# Non leading diagonal line : Need to Complete\n",
    "else:\n",
    "    print(\"Line segment can't be drawn with provided coordinates\")    \n",
    "# Display matrix\n",
    "print(matrix)\n",
    "# Display line segment\n",
    "plt.matshow(matrix)\n",
    "plt.colorbar\n",
    "plt.show()\n",
    "\n"
   ]
  }
 ],
 "metadata": {
  "interpreter": {
   "hash": "9999754dac750629c756766eb0d4ae601c71b0c265cade2ffc918cac30653e24"
  },
  "kernelspec": {
   "display_name": "Python 3.10.2 64-bit",
   "language": "python",
   "name": "python3"
  },
  "language_info": {
   "codemirror_mode": {
    "name": "ipython",
    "version": 3
   },
   "file_extension": ".py",
   "mimetype": "text/x-python",
   "name": "python",
   "nbconvert_exporter": "python",
   "pygments_lexer": "ipython3",
   "version": "3.10.2"
  },
  "orig_nbformat": 4
 },
 "nbformat": 4,
 "nbformat_minor": 2
}
