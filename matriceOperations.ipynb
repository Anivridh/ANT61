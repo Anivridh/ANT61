{
 "cells": [
  {
   "cell_type": "code",
   "execution_count": 32,
   "metadata": {},
   "outputs": [
    {
     "name": "stdout",
     "output_type": "stream",
     "text": [
      "[[50  2  3]\n",
      " [ 4  5  6]\n",
      " [ 7  8  9]\n",
      " [10 21 50]\n",
      " [13 14 15]\n",
      " [16 17 18]\n",
      " [19 20  3]]\n",
      " 5 occurs this many times: 1\n",
      "50\n"
     ]
    }
   ],
   "source": [
    "import numpy as np\n",
    "a = np.array([[50,2,3], [4,5,6], [7,8,9], [10,21,50], [13,14,15], [16,17,18], [19, 20, 3]])\n",
    "print(a)\n",
    "a.shape\n",
    "count_temp = np.count_nonzero(a == 5)\n",
    "print(\" 5 occurs this many times: \" + str(count_temp))\n",
    "element = a[0,0]\n",
    "print(element)"
   ]
  },
  {
   "cell_type": "markdown",
   "metadata": {},
   "source": [
    "1. You are given a matrix of random numbers, you need to output the matrix where odd rows are swapped with even rows in the original matrix"
   ]
  },
  {
   "cell_type": "code",
   "execution_count": null,
   "metadata": {},
   "outputs": [],
   "source": [
    "for i in range(0, len(a)):\n",
    "    if(i == len(a) - 1): \n",
    "        break\n",
    "    if (i % 2 == 0):\n",
    "        a[[i, i+1]] = a[[i+1, i]]\n",
    "print(a)"
   ]
  },
  {
   "cell_type": "markdown",
   "metadata": {},
   "source": [
    "2. You are given a matrix of random numbers, you need to find the number of the column which has the biggest number"
   ]
  },
  {
   "cell_type": "code",
   "execution_count": null,
   "metadata": {},
   "outputs": [],
   "source": [
    "max = a[0,0]\n",
    "colNum = 0\n",
    "for row in a:\n",
    "    colCounter = 0\n",
    "    for col in row:\n",
    "        if (col > max):\n",
    "            max = col\n",
    "            colNum = colCounter\n",
    "        colCounter += 1\n",
    "print(\"Column with biggest number is \" + str(colNum))"
   ]
  },
  {
   "cell_type": "markdown",
   "metadata": {},
   "source": [
    "3. You are given a matrix of random numbers, you need to find the number of the column which has the biggest sum of numbers"
   ]
  },
  {
   "cell_type": "code",
   "execution_count": null,
   "metadata": {},
   "outputs": [],
   "source": [
    "maxSum = 0\n",
    "colNum = 0\n",
    "for c in range(0, len(a[0])):\n",
    "    sum = 0\n",
    "    for r in range(0, len(a)):\n",
    "        sum += a[r, c]\n",
    "    if (sum > maxSum):\n",
    "        maxSum = sum\n",
    "        colNum = c\n",
    "print(\"Column with biggest sum of numbers is \" + str(colNum))"
   ]
  },
  {
   "cell_type": "markdown",
   "metadata": {},
   "source": [
    "4. You are given a matrix of random numbers, you need to find the number of the column which has the biggest median of numbers"
   ]
  },
  {
   "cell_type": "code",
   "execution_count": null,
   "metadata": {},
   "outputs": [],
   "source": [
    "maxMedian = 0\n",
    "colNum = 0\n",
    "numRows = len(a)\n",
    "numCols =  len(a[0])\n",
    "for c in range(0, numCols):\n",
    "    temp = np.zeros(numRows)\n",
    "    for r in range(0, numRows):\n",
    "        temp[r] = a[r, c]\n",
    "    med = np.median(temp)\n",
    "    print(\"median for column \" + str(c) + \" is \" + str(med))\n",
    "    if (med > maxMedian):\n",
    "        maxMedian = med\n",
    "        colNum = c\n",
    "print(\"Column with biggest median of numbers is \" + str(colNum))"
   ]
  },
  {
   "cell_type": "markdown",
   "metadata": {},
   "source": [
    "5. You are given a big matrix and a smaller one, write a function that returns the coordinates of a smaller matrix within a bigger one. Start with 2d and experiment with higher dimensions.\n"
   ]
  },
  {
   "cell_type": "code",
   "execution_count": 28,
   "metadata": {},
   "outputs": [
    {
     "name": "stdout",
     "output_type": "stream",
     "text": [
      "Coordinates are \n",
      "(3, 0)\n"
     ]
    }
   ],
   "source": [
    "import numpy as np\n",
    "# R = int(input(\"For big matrix Enter the number of rows\"))\n",
    "# C = int(input(\"For big Enter the number columns\"))\n",
    "# big_matrix = []\n",
    "# for i in range(R):\n",
    "#     list = []\n",
    "#     for j in range(C):\n",
    "#         list.append(int(input()))\n",
    "#     big_matrix.append(list)\n",
    "# r = int(input(\"For small matrix Enter the number of rows\"))\n",
    "# c = int(input(\"For small Enter the number columns\"))\n",
    "# small_matrix = []\n",
    "# for i in range(r):\n",
    "#     list = []\n",
    "#     for j in range(c):\n",
    "#         list.append(int(input()))\n",
    "#     small_matrix.append(list)\n",
    "big_matrix = np.array([[0,1,2,3,4],[5,6,7,8,9],[10,11,12,13,14],[15,16,17,18,19],[20,21,22,23,24]])\n",
    "#small_matrix = np.array([[2,3,4],[7,8,9],[12,13,14]])\n",
    "small_matrix = np.array([[15,16,17],[20,21,22]])\n",
    "R = big_matrix.shape[0]\n",
    "C = big_matrix.shape[1]\n",
    "r = small_matrix.shape[0]\n",
    "c = small_matrix.shape[1]\n",
    "\n",
    "small_start = small_matrix[0, 0]\n",
    "count_small_start = np.count_nonzero(big_matrix == small_start)\n",
    "if (count_small_start == 0):\n",
    "    print(\"smaller matrix not in bigger matrix\")\n",
    "else:\n",
    "    i = 0\n",
    "    visited = []\n",
    "    found = False\n",
    "    coordinate = (0, 0)\n",
    "    \n",
    "    for row in range(0, R):\n",
    "        for col in range(0, C):\n",
    "            if (i < count_small_start):\n",
    "                if (big_matrix[row, col] == small_start and (row, col) not in visited):\n",
    "                    i += 1\n",
    "                    visited.append((row, col))\n",
    "                    inside = True\n",
    "                    for row_big, row_small in zip(range(row, R), range(0, r)):\n",
    "                        if (not inside):\n",
    "                            break\n",
    "                        for col_big, col_small in zip(range(col, R), range(0, c)):\n",
    "                            if (small_matrix[row_small, col_small] != big_matrix[row_big][col_big]):\n",
    "                                inside = False\n",
    "                                break\n",
    "                    if (inside):\n",
    "                        found = True\n",
    "                        coordinate = (row, col)\n",
    "                        break\n",
    "        if (found):\n",
    "            break\n",
    "    if (found):\n",
    "        print(\"Coordinates are \")\n",
    "        print(coordinate)\n",
    "    else:\n",
    "        print(\"smaller matrix not in bigger matrix\")\n",
    "        \n",
    "                \n",
    "\n",
    "                            \n",
    "                        \n"
   ]
  },
  {
   "cell_type": "markdown",
   "metadata": {},
   "source": [
    "6. You are given a big matrix, a smaller one and a number representing how much to rotate the smaller matrix in multipliers of  radians in increments of 0.5 (0, 0.5, 1, ...). Write a function that returns a copy of a big matrix where the smaller matrix is rotated  accordingly."
   ]
  },
  {
   "cell_type": "code",
   "execution_count": 36,
   "metadata": {},
   "outputs": [
    {
     "name": "stdout",
     "output_type": "stream",
     "text": [
      "Coordinates are \n",
      "(0, 2)\n",
      "[[ 0  1 12  7  2]\n",
      " [ 5  6 13  8  3]\n",
      " [10 11 14  9  4]\n",
      " [15 16 17 18 19]\n",
      " [20 21 22 23 24]]\n"
     ]
    }
   ],
   "source": [
    "import numpy as np\n",
    "# R = int(input(\"For big matrix Enter the number of rows\"))\n",
    "# C = int(input(\"For big Enter the number columns\"))\n",
    "# big_matrix = []\n",
    "# for i in range(R):\n",
    "#     list = []\n",
    "#     for j in range(C):\n",
    "#         list.append(int(input()))\n",
    "#     big_matrix.append(list)\n",
    "# r = int(input(\"For small matrix Enter the number of rows\"))\n",
    "# c = int(input(\"For small Enter the number columns\"))\n",
    "# small_matrix = []\n",
    "# for i in range(r):\n",
    "#     list = []\n",
    "#     for j in range(c):\n",
    "#         list.append(int(input()))\n",
    "#     small_matrix.append(list)\n",
    "big_matrix = np.array([[0,1,2,3,4],[5,6,7,8,9],[10,11,12,13,14],[15,16,17,18,19],[20,21,22,23,24]])\n",
    "small_matrix = np.array([[2,3,4],[7,8,9],[12,13,14]])\n",
    "#small_matrix = np.array([[15,16,17],[20,21,22]])\n",
    "R = big_matrix.shape[0]\n",
    "C = big_matrix.shape[1]\n",
    "r = small_matrix.shape[0]\n",
    "c = small_matrix.shape[1]\n",
    "\n",
    "small_start = small_matrix[0, 0]\n",
    "count_small_start = np.count_nonzero(big_matrix == small_start)\n",
    "if (count_small_start == 0):\n",
    "    print(\"smaller matrix not in bigger matrix\")\n",
    "else:\n",
    "    i = 0\n",
    "    visited = []\n",
    "    found = False\n",
    "    coordinate = (0, 0)\n",
    "    \n",
    "    for row in range(0, R):\n",
    "        for col in range(0, C):\n",
    "            if (i < count_small_start):\n",
    "                if (big_matrix[row, col] == small_start and (row, col) not in visited):\n",
    "                    i += 1\n",
    "                    visited.append((row, col))\n",
    "                    inside = True\n",
    "                    for row_big, row_small in zip(range(row, R), range(0, r)):\n",
    "                        if (not inside):\n",
    "                            break\n",
    "                        for col_big, col_small in zip(range(col, R), range(0, c)):\n",
    "                            if (small_matrix[row_small, col_small] != big_matrix[row_big][col_big]):\n",
    "                                inside = False\n",
    "                                break\n",
    "                    if (inside):\n",
    "                        found = True\n",
    "                        coordinate = (row, col)\n",
    "                        break\n",
    "        if (found):\n",
    "            break\n",
    "    if (found):\n",
    "        print(\"Coordinates are \")\n",
    "        print(coordinate)\n",
    "    else:\n",
    "        print(\"smaller matrix not in bigger matrix\")\n",
    "## Rotating###\n",
    "\n",
    "if (r != c):\n",
    "    print(\"can't rotate matrix\")\n",
    "else:\n",
    "    num_rotate = float(input(\"Enter the multiple of pi to rotate smaller matrix by: \"))\n",
    "    rotated_matrix = np.rot90(small_matrix, int(num_rotate/0.5))\n",
    "    i = 0\n",
    "    for row in range (coordinate[0], coordinate[0] + r):\n",
    "        j = 0\n",
    "        for col in range(coordinate[1], coordinate[1] + c):\n",
    "            big_matrix[row, col] = rotated_matrix[i, j]\n",
    "            j += 1\n",
    "        i += 1\n",
    "    print(big_matrix)"
   ]
  },
  {
   "cell_type": "markdown",
   "metadata": {},
   "source": [
    "7. You are given the size of a matrix (e.g. width and height for 2D) and the coordinate of the start and the end of the line segment. Write a function that returns the matrix which has 1 where the line pixels should be and 0 where they shouldn’t. \n",
    "Draw the matrix as a graphical output. Start with 2d and experiment with higher dimensions."
   ]
  },
  {
   "cell_type": "code",
   "execution_count": 40,
   "metadata": {},
   "outputs": [
    {
     "name": "stdout",
     "output_type": "stream",
     "text": [
      "[[0.  0.  0.  0.  0.  0.  0.  0.  0.  0. ]\n",
      " [0.  0.  0.  0.  0.  0.  0.  0.  0.  0. ]\n",
      " [0.  0.  0.  0.5 0.  0.  0.  0.  0.  0. ]\n",
      " [0.  0.  0.  0.5 0.  0.  0.  0.  0.  0. ]\n",
      " [0.  0.  0.  0.5 0.  0.  0.  0.  0.  0. ]\n",
      " [0.  0.  0.  0.  0.  0.  0.  0.  0.  0. ]\n",
      " [0.  0.  0.  0.  0.  0.  0.  0.  0.  0. ]\n",
      " [0.  0.  0.  0.  0.  0.  0.  0.  0.  0. ]\n",
      " [0.  0.  0.  0.  0.  0.  0.  0.  0.  0. ]\n",
      " [0.  0.  0.  0.  0.  0.  0.  0.  0.  0. ]]\n"
     ]
    },
    {
     "data": {
      "image/png": "[encoded data removed]",
      "text/plain": [
       "<Figure size 288x288 with 1 Axes>"
      ]
     },
     "metadata": {
      "needs_background": "light"
     },
     "output_type": "display_data"
    }
   ],
   "source": [
    "import numpy as np\n",
    "import matplotlib.pyplot as plt\n",
    "\n",
    "height = int(input(\"Enter height of matrix: \"))\n",
    "width = int(input(\"Enter width of matrix: \"))\n",
    "start = tuple(int(x.strip()) for x in input(\"Enter starting coordinates of the line segment: \").split(','))\n",
    "end = tuple(int(x.strip()) for x in input(\"Enter ending coordinates of the line segment: \").split(','))\n",
    "pt = float(input(\"Enter pixel transperancy\"))\n",
    "\n",
    "matrix = np.zeros((height, width))\n",
    "# Dot\n",
    "if (start == end):\n",
    "    matrix[start[0], end[0]] = pt\n",
    "# Horizontal line:\n",
    "elif (start[0] == end[0]):\n",
    "    if (start[1] > end[1]):\n",
    "        temp = start[1]\n",
    "        start = (start[0], end[1])\n",
    "        end = (end[0], temp)\n",
    "    for h in range (0, height):\n",
    "        if (h == start[0]):\n",
    "            for w in range (0, width):\n",
    "                if (w >=start[1] and w <= end[1]):\n",
    "                    matrix[start[0], w] = pt\n",
    "# Vertical line:\n",
    "elif (start[1] == end[1]):\n",
    "    if (start[0] > end[0]):\n",
    "        temp = start[0]\n",
    "        start = (end[0], start[1])\n",
    "        end = (temp, end[1])\n",
    "    for w in range (0, width):\n",
    "        if (w == start[1]):\n",
    "            for h in range (0, height):\n",
    "                if (h >= start[0] and h <= end[0]):\n",
    "                    matrix[h, start[1]] = pt\n",
    "# Leading Diagonal line\n",
    "elif (start[0] == start[1] and end[0] == end[1]):\n",
    "    if (start[0] > end[0]):\n",
    "        temp = start\n",
    "        start = (end[0], end[1])\n",
    "        end = (temp[0], temp[1])\n",
    "    for h in range (0, height):\n",
    "        for w in range (0, width):\n",
    "            if (h == w and h >= start[0] and h <= end[0]):\n",
    "                matrix[h, w] = pt\n",
    "\n",
    "# Non leading diagonal line\n",
    "elif (abs(start[0] - end[0]) == abs(start[1] - end[1])):\n",
    "    h = start[0]\n",
    "    w = start[1]\n",
    "    if ((h in range(0, height)) and (w in range(0, width))):\n",
    "        matrix[h, w] = pt\n",
    "    while ((h in range(0, height)) and (w in range(0, width)) and (h != end[0]) and (w != end[1])):\n",
    "        if (h < end[0]):\n",
    "            h += 1\n",
    "        elif (h > end[0]):\n",
    "            h -= 1\n",
    "        if (w < end[1]):\n",
    "            w += 1\n",
    "        elif (w > end[1]):\n",
    "            w -= 1\n",
    "        matrix[h, w] = pt\n",
    "else:\n",
    "    print(\"Line segment can't be drawn with provided coordinates\")    \n",
    "# Display matrix\n",
    "print(matrix)\n",
    "# Display line segment\n",
    "plt.matshow(matrix)\n",
    "plt.colorbar\n",
    "plt.show()\n"
   ]
  },
  {
   "cell_type": "markdown",
   "metadata": {},
   "source": [
    "8. Same as 3, but now with antialiasing, where the numbers in the resulting matrix represent the pixel transparency."
   ]
  },
  {
   "cell_type": "markdown",
   "metadata": {},
   "source": [
    "Completed in question 7. Needs to be clarified"
   ]
  }
 ],
 "metadata": {
  "interpreter": {
   "hash": "9999754dac750629c756766eb0d4ae601c71b0c265cade2ffc918cac30653e24"
  },
  "kernelspec": {
   "display_name": "Python 3.10.2 64-bit",
   "language": "python",
   "name": "python3"
  },
  "language_info": {
   "codemirror_mode": {
    "name": "ipython",
    "version": 3
   },
   "file_extension": ".py",
   "mimetype": "text/x-python",
   "name": "python",
   "nbconvert_exporter": "python",
   "pygments_lexer": "ipython3",
   "version": "3.10.2"
  },
  "orig_nbformat": 4
 },
 "nbformat": 4,
 "nbformat_minor": 2
}
