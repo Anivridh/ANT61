{
 "cells": [
  {
   "cell_type": "code",
   "execution_count": 32,
   "metadata": {},
   "outputs": [
    {
     "name": "stdout",
     "output_type": "stream",
     "text": [
      "[[50  2  3]\n",
      " [ 4  5  6]\n",
      " [ 7  8  9]\n",
      " [10 21 50]\n",
      " [13 14 15]\n",
      " [16 17 18]\n",
      " [19 20  3]]\n",
      " 5 occurs this many times: 1\n",
      "50\n"
     ]
    }
   ],
   "source": [
    "import numpy as np\n",
    "a = np.array([[50,2,3], [4,5,6], [7,8,9], [10,21,50], [13,14,15], [16,17,18], [19, 20, 3]])\n",
    "print(a)\n",
    "a.shape\n",
    "count_temp = np.count_nonzero(a == 5)\n",
    "print(\" 5 occurs this many times: \" + str(count_temp))\n",
    "element = a[0,0]\n",
    "print(element)"
   ]
  },
  {
   "cell_type": "markdown",
   "metadata": {},
   "source": [
    "1. You are given a matrix of random numbers, you need to output the matrix where odd rows are swapped with even rows in the original matrix"
   ]
  },
  {
   "cell_type": "code",
   "execution_count": null,
   "metadata": {},
   "outputs": [],
   "source": [
    "for i in range(0, len(a)):\n",
    "    if(i == len(a) - 1): \n",
    "        break\n",
    "    if (i % 2 == 0):\n",
    "        a[[i, i+1]] = a[[i+1, i]]\n",
    "print(a)"
   ]
  },
  {
   "cell_type": "markdown",
   "metadata": {},
   "source": [
    "2. You are given a matrix of random numbers, you need to find the number of the column which has the biggest number"
   ]
  },
  {
   "cell_type": "code",
   "execution_count": null,
   "metadata": {},
   "outputs": [],
   "source": [
    "max = a[0,0]\n",
    "colNum = 0\n",
    "for row in a:\n",
    "    colCounter = 0\n",
    "    for col in row:\n",
    "        if (col > max):\n",
    "            max = col\n",
    "            colNum = colCounter\n",
    "        colCounter += 1\n",
    "print(\"Column with biggest number is \" + str(colNum))"
   ]
  },
  {
   "cell_type": "markdown",
   "metadata": {},
   "source": [
    "3. You are given a matrix of random numbers, you need to find the number of the column which has the biggest sum of numbers"
   ]
  },
  {
   "cell_type": "code",
   "execution_count": null,
   "metadata": {},
   "outputs": [],
   "source": [
    "maxSum = 0\n",
    "colNum = 0\n",
    "for c in range(0, len(a[0])):\n",
    "    sum = 0\n",
    "    for r in range(0, len(a)):\n",
    "        sum += a[r, c]\n",
    "    if (sum > maxSum):\n",
    "        maxSum = sum\n",
    "        colNum = c\n",
    "print(\"Column with biggest sum of numbers is \" + str(colNum))"
   ]
  },
  {
   "cell_type": "markdown",
   "metadata": {},
   "source": [
    "4. You are given a matrix of random numbers, you need to find the number of the column which has the biggest median of numbers"
   ]
  },
  {
   "cell_type": "code",
   "execution_count": null,
   "metadata": {},
   "outputs": [],
   "source": [
    "maxMedian = 0\n",
    "colNum = 0\n",
    "numRows = len(a)\n",
    "numCols =  len(a[0])\n",
    "for c in range(0, numCols):\n",
    "    temp = np.zeros(numRows)\n",
    "    for r in range(0, numRows):\n",
    "        temp[r] = a[r, c]\n",
    "    med = np.median(temp)\n",
    "    print(\"median for column \" + str(c) + \" is \" + str(med))\n",
    "    if (med > maxMedian):\n",
    "        maxMedian = med\n",
    "        colNum = c\n",
    "print(\"Column with biggest median of numbers is \" + str(colNum))"
   ]
  },
  {
   "cell_type": "markdown",
   "metadata": {},
   "source": [
    "5. You are given a big matrix and a smaller one, write a function that returns the coordinates of a smaller matrix within a bigger one. Start with 2d and experiment with higher dimensions.\n"
   ]
  },
  {
   "cell_type": "code",
   "execution_count": 28,
   "metadata": {},
   "outputs": [
    {
     "name": "stdout",
     "output_type": "stream",
     "text": [
      "Coordinates are \n",
      "(3, 0)\n"
     ]
    }
   ],
   "source": [
    "import numpy as np\n",
    "# R = int(input(\"For big matrix Enter the number of rows\"))\n",
    "# C = int(input(\"For big Enter the number columns\"))\n",
    "# big_matrix = []\n",
    "# for i in range(R):\n",
    "#     list = []\n",
    "#     for j in range(C):\n",
    "#         list.append(int(input()))\n",
    "#     big_matrix.append(list)\n",
    "# r = int(input(\"For small matrix Enter the number of rows\"))\n",
    "# c = int(input(\"For small Enter the number columns\"))\n",
    "# small_matrix = []\n",
    "# for i in range(r):\n",
    "#     list = []\n",
    "#     for j in range(c):\n",
    "#         list.append(int(input()))\n",
    "#     small_matrix.append(list)\n",
    "big_matrix = np.array([[0,1,2,3,4],[5,6,7,8,9],[10,11,12,13,14],[15,16,17,18,19],[20,21,22,23,24]])\n",
    "#small_matrix = np.array([[2,3,4],[7,8,9],[12,13,14]])\n",
    "small_matrix = np.array([[15,16,17],[20,21,22]])\n",
    "R = big_matrix.shape[0]\n",
    "C = big_matrix.shape[1]\n",
    "r = small_matrix.shape[0]\n",
    "c = small_matrix.shape[1]\n",
    "\n",
    "small_start = small_matrix[0, 0]\n",
    "count_small_start = np.count_nonzero(big_matrix == small_start)\n",
    "if (count_small_start == 0):\n",
    "    print(\"smaller matrix not in bigger matrix\")\n",
    "else:\n",
    "    i = 0\n",
    "    visited = []\n",
    "    found = False\n",
    "    coordinate = (0, 0)\n",
    "    \n",
    "    for row in range(0, R):\n",
    "        for col in range(0, C):\n",
    "            if (i < count_small_start):\n",
    "                if (big_matrix[row, col] == small_start and (row, col) not in visited):\n",
    "                    i += 1\n",
    "                    visited.append((row, col))\n",
    "                    inside = True\n",
    "                    for row_big, row_small in zip(range(row, R), range(0, r)):\n",
    "                        if (not inside):\n",
    "                            break\n",
    "                        for col_big, col_small in zip(range(col, R), range(0, c)):\n",
    "                            if (small_matrix[row_small, col_small] != big_matrix[row_big][col_big]):\n",
    "                                inside = False\n",
    "                                break\n",
    "                    if (inside):\n",
    "                        found = True\n",
    "                        coordinate = (row, col)\n",
    "                        break\n",
    "        if (found):\n",
    "            break\n",
    "    if (found):\n",
    "        print(\"Coordinates are \")\n",
    "        print(coordinate)\n",
    "    else:\n",
    "        print(\"smaller matrix not in bigger matrix\")\n",
    "        \n",
    "                \n",
    "\n",
    "                            \n",
    "                        \n"
   ]
  },
  {
   "cell_type": "markdown",
   "metadata": {},
   "source": [
    "6. You are given a big matrix, a smaller one and a number representing how much to rotate the smaller matrix in multipliers of  radians in increments of 0.5 (0, 0.5, 1, ...). Write a function that returns a copy of a big matrix where the smaller matrix is rotated  accordingly."
   ]
  },
  {
   "cell_type": "code",
   "execution_count": 36,
   "metadata": {},
   "outputs": [
    {
     "name": "stdout",
     "output_type": "stream",
     "text": [
      "Coordinates are \n",
      "(0, 2)\n",
      "[[ 0  1 12  7  2]\n",
      " [ 5  6 13  8  3]\n",
      " [10 11 14  9  4]\n",
      " [15 16 17 18 19]\n",
      " [20 21 22 23 24]]\n"
     ]
    }
   ],
   "source": [
    "import numpy as np\n",
    "# R = int(input(\"For big matrix Enter the number of rows\"))\n",
    "# C = int(input(\"For big Enter the number columns\"))\n",
    "# big_matrix = []\n",
    "# for i in range(R):\n",
    "#     list = []\n",
    "#     for j in range(C):\n",
    "#         list.append(int(input()))\n",
    "#     big_matrix.append(list)\n",
    "# r = int(input(\"For small matrix Enter the number of rows\"))\n",
    "# c = int(input(\"For small Enter the number columns\"))\n",
    "# small_matrix = []\n",
    "# for i in range(r):\n",
    "#     list = []\n",
    "#     for j in range(c):\n",
    "#         list.append(int(input()))\n",
    "#     small_matrix.append(list)\n",
    "big_matrix = np.array([[0,1,2,3,4],[5,6,7,8,9],[10,11,12,13,14],[15,16,17,18,19],[20,21,22,23,24]])\n",
    "small_matrix = np.array([[2,3,4],[7,8,9],[12,13,14]])\n",
    "#small_matrix = np.array([[15,16,17],[20,21,22]])\n",
    "R = big_matrix.shape[0]\n",
    "C = big_matrix.shape[1]\n",
    "r = small_matrix.shape[0]\n",
    "c = small_matrix.shape[1]\n",
    "\n",
    "small_start = small_matrix[0, 0]\n",
    "count_small_start = np.count_nonzero(big_matrix == small_start)\n",
    "if (count_small_start == 0):\n",
    "    print(\"smaller matrix not in bigger matrix\")\n",
    "else:\n",
    "    i = 0\n",
    "    visited = []\n",
    "    found = False\n",
    "    coordinate = (0, 0)\n",
    "    \n",
    "    for row in range(0, R):\n",
    "        for col in range(0, C):\n",
    "            if (i < count_small_start):\n",
    "                if (big_matrix[row, col] == small_start and (row, col) not in visited):\n",
    "                    i += 1\n",
    "                    visited.append((row, col))\n",
    "                    inside = True\n",
    "                    for row_big, row_small in zip(range(row, R), range(0, r)):\n",
    "                        if (not inside):\n",
    "                            break\n",
    "                        for col_big, col_small in zip(range(col, R), range(0, c)):\n",
    "                            if (small_matrix[row_small, col_small] != big_matrix[row_big][col_big]):\n",
    "                                inside = False\n",
    "                                break\n",
    "                    if (inside):\n",
    "                        found = True\n",
    "                        coordinate = (row, col)\n",
    "                        break\n",
    "        if (found):\n",
    "            break\n",
    "    if (found):\n",
    "        print(\"Coordinates are \")\n",
    "        print(coordinate)\n",
    "    else:\n",
    "        print(\"smaller matrix not in bigger matrix\")\n",
    "## Rotating###\n",
    "\n",
    "if (r != c):\n",
    "    print(\"can't rotate matrix\")\n",
    "else:\n",
    "    num_rotate = float(input(\"Enter the multiple of pi to rotate smaller matrix by: \"))\n",
    "    rotated_matrix = np.rot90(small_matrix, int(num_rotate/0.5))\n",
    "    i = 0\n",
    "    for row in range (coordinate[0], coordinate[0] + r):\n",
    "        j = 0\n",
    "        for col in range(coordinate[1], coordinate[1] + c):\n",
    "            big_matrix[row, col] = rotated_matrix[i, j]\n",
    "            j += 1\n",
    "        i += 1\n",
    "    print(big_matrix)"
   ]
  },
  {
   "cell_type": "markdown",
   "metadata": {},
   "source": [
    "7. You are given the size of a matrix (e.g. width and height for 2D) and the coordinate of the start and the end of the line segment. Write a function that returns the matrix which has 1 where the line pixels should be and 0 where they shouldn’t. \n",
    "Draw the matrix as a graphical output. Start with 2d and experiment with higher dimensions."
   ]
  },
  {
   "cell_type": "code",
   "execution_count": 39,
   "metadata": {},
   "outputs": [
    {
     "name": "stdout",
     "output_type": "stream",
     "text": [
      "[[0.  0.  0.  0.  0.  0.  0.  0.  0.  0. ]\n",
      " [0.  0.  0.  0.  0.  0.  0.  0.  0.  0. ]\n",
      " [0.  0.  0.  0.5 0.  0.  0.  0.  0.  0. ]\n",
      " [0.  0.  0.  0.5 0.  0.  0.  0.  0.  0. ]\n",
      " [0.  0.  0.  0.5 0.  0.  0.  0.  0.  0. ]\n",
      " [0.  0.  0.  0.5 0.  0.  0.  0.  0.  0. ]\n",
      " [0.  0.  0.  0.5 0.  0.  0.  0.  0.  0. ]\n",
      " [0.  0.  0.  0.5 0.  0.  0.  0.  0.  0. ]\n",
      " [0.  0.  0.  0.5 0.  0.  0.  0.  0.  0. ]\n",
      " [0.  0.  0.  0.  0.  0.  0.  0.  0.  0. ]]\n"
     ]
    },
    {
     "ename": "AttributeError",
     "evalue": "'AxesImage' object has no property 'antialiased'",
     "output_type": "error",
     "traceback": [
      "\u001b[1;31m---------------------------------------------------------------------------\u001b[0m",
      "\u001b[1;31mAttributeError\u001b[0m                            Traceback (most recent call last)",
      "\u001b[1;32mc:\\Users\\anivr\\OneDrive\\Documents\\ANT61\\Workshop1\\matriceOperations.ipynb Cell 15'\u001b[0m in \u001b[0;36m<cell line: 68>\u001b[1;34m()\u001b[0m\n\u001b[0;32m     <a href='vscode-notebook-cell:/c%3A/Users/anivr/OneDrive/Documents/ANT61/Workshop1/matriceOperations.ipynb#ch0000010?line=65'>66</a>\u001b[0m \u001b[39mprint\u001b[39m(matrix)\n\u001b[0;32m     <a href='vscode-notebook-cell:/c%3A/Users/anivr/OneDrive/Documents/ANT61/Workshop1/matriceOperations.ipynb#ch0000010?line=66'>67</a>\u001b[0m \u001b[39m# Display line segment\u001b[39;00m\n\u001b[1;32m---> <a href='vscode-notebook-cell:/c%3A/Users/anivr/OneDrive/Documents/ANT61/Workshop1/matriceOperations.ipynb#ch0000010?line=67'>68</a>\u001b[0m plt\u001b[39m.\u001b[39;49mmatshow(matrix, antialiased \u001b[39m=\u001b[39;49m \u001b[39mTrue\u001b[39;49;00m)\n\u001b[0;32m     <a href='vscode-notebook-cell:/c%3A/Users/anivr/OneDrive/Documents/ANT61/Workshop1/matriceOperations.ipynb#ch0000010?line=68'>69</a>\u001b[0m plt\u001b[39m.\u001b[39mcolorbar\n\u001b[0;32m     <a href='vscode-notebook-cell:/c%3A/Users/anivr/OneDrive/Documents/ANT61/Workshop1/matriceOperations.ipynb#ch0000010?line=69'>70</a>\u001b[0m plt\u001b[39m.\u001b[39mshow()\n",
      "File \u001b[1;32m~\\AppData\\Local\\Programs\\Python\\Python310\\lib\\site-packages\\matplotlib\\pyplot.py:2194\u001b[0m, in \u001b[0;36mmatshow\u001b[1;34m(A, fignum, **kwargs)\u001b[0m\n\u001b[0;32m   <a href='file:///~/AppData/Local/Programs/Python/Python310/lib/site-packages/matplotlib/pyplot.py?line=2191'>2192</a>\u001b[0m     fig \u001b[39m=\u001b[39m figure(fignum, figsize\u001b[39m=\u001b[39mfigaspect(A))\n\u001b[0;32m   <a href='file:///~/AppData/Local/Programs/Python/Python310/lib/site-packages/matplotlib/pyplot.py?line=2192'>2193</a>\u001b[0m     ax \u001b[39m=\u001b[39m fig\u001b[39m.\u001b[39madd_axes([\u001b[39m0.15\u001b[39m, \u001b[39m0.09\u001b[39m, \u001b[39m0.775\u001b[39m, \u001b[39m0.775\u001b[39m])\n\u001b[1;32m-> <a href='file:///~/AppData/Local/Programs/Python/Python310/lib/site-packages/matplotlib/pyplot.py?line=2193'>2194</a>\u001b[0m im \u001b[39m=\u001b[39m ax\u001b[39m.\u001b[39mmatshow(A, \u001b[39m*\u001b[39m\u001b[39m*\u001b[39mkwargs)\n\u001b[0;32m   <a href='file:///~/AppData/Local/Programs/Python/Python310/lib/site-packages/matplotlib/pyplot.py?line=2194'>2195</a>\u001b[0m sci(im)\n\u001b[0;32m   <a href='file:///~/AppData/Local/Programs/Python/Python310/lib/site-packages/matplotlib/pyplot.py?line=2195'>2196</a>\u001b[0m \u001b[39mreturn\u001b[39;00m im\n",
      "File \u001b[1;32m~\\AppData\\Local\\Programs\\Python\\Python310\\lib\\site-packages\\matplotlib\\axes\\_axes.py:7834\u001b[0m, in \u001b[0;36mAxes.matshow\u001b[1;34m(self, Z, **kwargs)\u001b[0m\n\u001b[0;32m   <a href='file:///~/AppData/Local/Programs/Python/Python310/lib/site-packages/matplotlib/axes/_axes.py?line=7828'>7829</a>\u001b[0m Z \u001b[39m=\u001b[39m np\u001b[39m.\u001b[39masanyarray(Z)\n\u001b[0;32m   <a href='file:///~/AppData/Local/Programs/Python/Python310/lib/site-packages/matplotlib/axes/_axes.py?line=7829'>7830</a>\u001b[0m kw \u001b[39m=\u001b[39m {\u001b[39m'\u001b[39m\u001b[39morigin\u001b[39m\u001b[39m'\u001b[39m: \u001b[39m'\u001b[39m\u001b[39mupper\u001b[39m\u001b[39m'\u001b[39m,\n\u001b[0;32m   <a href='file:///~/AppData/Local/Programs/Python/Python310/lib/site-packages/matplotlib/axes/_axes.py?line=7830'>7831</a>\u001b[0m       \u001b[39m'\u001b[39m\u001b[39minterpolation\u001b[39m\u001b[39m'\u001b[39m: \u001b[39m'\u001b[39m\u001b[39mnearest\u001b[39m\u001b[39m'\u001b[39m,\n\u001b[0;32m   <a href='file:///~/AppData/Local/Programs/Python/Python310/lib/site-packages/matplotlib/axes/_axes.py?line=7831'>7832</a>\u001b[0m       \u001b[39m'\u001b[39m\u001b[39maspect\u001b[39m\u001b[39m'\u001b[39m: \u001b[39m'\u001b[39m\u001b[39mequal\u001b[39m\u001b[39m'\u001b[39m,          \u001b[39m# (already the imshow default)\u001b[39;00m\n\u001b[0;32m   <a href='file:///~/AppData/Local/Programs/Python/Python310/lib/site-packages/matplotlib/axes/_axes.py?line=7832'>7833</a>\u001b[0m       \u001b[39m*\u001b[39m\u001b[39m*\u001b[39mkwargs}\n\u001b[1;32m-> <a href='file:///~/AppData/Local/Programs/Python/Python310/lib/site-packages/matplotlib/axes/_axes.py?line=7833'>7834</a>\u001b[0m im \u001b[39m=\u001b[39m \u001b[39mself\u001b[39m\u001b[39m.\u001b[39mimshow(Z, \u001b[39m*\u001b[39m\u001b[39m*\u001b[39mkw)\n\u001b[0;32m   <a href='file:///~/AppData/Local/Programs/Python/Python310/lib/site-packages/matplotlib/axes/_axes.py?line=7834'>7835</a>\u001b[0m \u001b[39mself\u001b[39m\u001b[39m.\u001b[39mtitle\u001b[39m.\u001b[39mset_y(\u001b[39m1.05\u001b[39m)\n\u001b[0;32m   <a href='file:///~/AppData/Local/Programs/Python/Python310/lib/site-packages/matplotlib/axes/_axes.py?line=7835'>7836</a>\u001b[0m \u001b[39mself\u001b[39m\u001b[39m.\u001b[39mxaxis\u001b[39m.\u001b[39mtick_top()\n",
      "File \u001b[1;32m~\\AppData\\Local\\Programs\\Python\\Python310\\lib\\site-packages\\matplotlib\\_api\\deprecation.py:456\u001b[0m, in \u001b[0;36mmake_keyword_only.<locals>.wrapper\u001b[1;34m(*args, **kwargs)\u001b[0m\n\u001b[0;32m    <a href='file:///~/AppData/Local/Programs/Python/Python310/lib/site-packages/matplotlib/_api/deprecation.py?line=449'>450</a>\u001b[0m \u001b[39mif\u001b[39;00m \u001b[39mlen\u001b[39m(args) \u001b[39m>\u001b[39m name_idx:\n\u001b[0;32m    <a href='file:///~/AppData/Local/Programs/Python/Python310/lib/site-packages/matplotlib/_api/deprecation.py?line=450'>451</a>\u001b[0m     warn_deprecated(\n\u001b[0;32m    <a href='file:///~/AppData/Local/Programs/Python/Python310/lib/site-packages/matplotlib/_api/deprecation.py?line=451'>452</a>\u001b[0m         since, message\u001b[39m=\u001b[39m\u001b[39m\"\u001b[39m\u001b[39mPassing the \u001b[39m\u001b[39m%(name)s\u001b[39;00m\u001b[39m \u001b[39m\u001b[39m%(obj_type)s\u001b[39;00m\u001b[39m \u001b[39m\u001b[39m\"\u001b[39m\n\u001b[0;32m    <a href='file:///~/AppData/Local/Programs/Python/Python310/lib/site-packages/matplotlib/_api/deprecation.py?line=452'>453</a>\u001b[0m         \u001b[39m\"\u001b[39m\u001b[39mpositionally is deprecated since Matplotlib \u001b[39m\u001b[39m%(since)s\u001b[39;00m\u001b[39m; the \u001b[39m\u001b[39m\"\u001b[39m\n\u001b[0;32m    <a href='file:///~/AppData/Local/Programs/Python/Python310/lib/site-packages/matplotlib/_api/deprecation.py?line=453'>454</a>\u001b[0m         \u001b[39m\"\u001b[39m\u001b[39mparameter will become keyword-only \u001b[39m\u001b[39m%(removal)s\u001b[39;00m\u001b[39m.\u001b[39m\u001b[39m\"\u001b[39m,\n\u001b[0;32m    <a href='file:///~/AppData/Local/Programs/Python/Python310/lib/site-packages/matplotlib/_api/deprecation.py?line=454'>455</a>\u001b[0m         name\u001b[39m=\u001b[39mname, obj_type\u001b[39m=\u001b[39m\u001b[39mf\u001b[39m\u001b[39m\"\u001b[39m\u001b[39mparameter of \u001b[39m\u001b[39m{\u001b[39;00mfunc\u001b[39m.\u001b[39m\u001b[39m__name__\u001b[39m\u001b[39m}\u001b[39;00m\u001b[39m()\u001b[39m\u001b[39m\"\u001b[39m)\n\u001b[1;32m--> <a href='file:///~/AppData/Local/Programs/Python/Python310/lib/site-packages/matplotlib/_api/deprecation.py?line=455'>456</a>\u001b[0m \u001b[39mreturn\u001b[39;00m func(\u001b[39m*\u001b[39margs, \u001b[39m*\u001b[39m\u001b[39m*\u001b[39mkwargs)\n",
      "File \u001b[1;32m~\\AppData\\Local\\Programs\\Python\\Python310\\lib\\site-packages\\matplotlib\\__init__.py:1412\u001b[0m, in \u001b[0;36m_preprocess_data.<locals>.inner\u001b[1;34m(ax, data, *args, **kwargs)\u001b[0m\n\u001b[0;32m   <a href='file:///~/AppData/Local/Programs/Python/Python310/lib/site-packages/matplotlib/__init__.py?line=1408'>1409</a>\u001b[0m \u001b[39m@functools\u001b[39m\u001b[39m.\u001b[39mwraps(func)\n\u001b[0;32m   <a href='file:///~/AppData/Local/Programs/Python/Python310/lib/site-packages/matplotlib/__init__.py?line=1409'>1410</a>\u001b[0m \u001b[39mdef\u001b[39;00m \u001b[39minner\u001b[39m(ax, \u001b[39m*\u001b[39margs, data\u001b[39m=\u001b[39m\u001b[39mNone\u001b[39;00m, \u001b[39m*\u001b[39m\u001b[39m*\u001b[39mkwargs):\n\u001b[0;32m   <a href='file:///~/AppData/Local/Programs/Python/Python310/lib/site-packages/matplotlib/__init__.py?line=1410'>1411</a>\u001b[0m     \u001b[39mif\u001b[39;00m data \u001b[39mis\u001b[39;00m \u001b[39mNone\u001b[39;00m:\n\u001b[1;32m-> <a href='file:///~/AppData/Local/Programs/Python/Python310/lib/site-packages/matplotlib/__init__.py?line=1411'>1412</a>\u001b[0m         \u001b[39mreturn\u001b[39;00m func(ax, \u001b[39m*\u001b[39m\u001b[39mmap\u001b[39m(sanitize_sequence, args), \u001b[39m*\u001b[39m\u001b[39m*\u001b[39mkwargs)\n\u001b[0;32m   <a href='file:///~/AppData/Local/Programs/Python/Python310/lib/site-packages/matplotlib/__init__.py?line=1413'>1414</a>\u001b[0m     bound \u001b[39m=\u001b[39m new_sig\u001b[39m.\u001b[39mbind(ax, \u001b[39m*\u001b[39margs, \u001b[39m*\u001b[39m\u001b[39m*\u001b[39mkwargs)\n\u001b[0;32m   <a href='file:///~/AppData/Local/Programs/Python/Python310/lib/site-packages/matplotlib/__init__.py?line=1414'>1415</a>\u001b[0m     auto_label \u001b[39m=\u001b[39m (bound\u001b[39m.\u001b[39marguments\u001b[39m.\u001b[39mget(label_namer)\n\u001b[0;32m   <a href='file:///~/AppData/Local/Programs/Python/Python310/lib/site-packages/matplotlib/__init__.py?line=1415'>1416</a>\u001b[0m                   \u001b[39mor\u001b[39;00m bound\u001b[39m.\u001b[39mkwargs\u001b[39m.\u001b[39mget(label_namer))\n",
      "File \u001b[1;32m~\\AppData\\Local\\Programs\\Python\\Python310\\lib\\site-packages\\matplotlib\\axes\\_axes.py:5482\u001b[0m, in \u001b[0;36mAxes.imshow\u001b[1;34m(self, X, cmap, norm, aspect, interpolation, alpha, vmin, vmax, origin, extent, interpolation_stage, filternorm, filterrad, resample, url, **kwargs)\u001b[0m\n\u001b[0;32m   <a href='file:///~/AppData/Local/Programs/Python/Python310/lib/site-packages/matplotlib/axes/_axes.py?line=5479'>5480</a>\u001b[0m     aspect \u001b[39m=\u001b[39m rcParams[\u001b[39m'\u001b[39m\u001b[39mimage.aspect\u001b[39m\u001b[39m'\u001b[39m]\n\u001b[0;32m   <a href='file:///~/AppData/Local/Programs/Python/Python310/lib/site-packages/matplotlib/axes/_axes.py?line=5480'>5481</a>\u001b[0m \u001b[39mself\u001b[39m\u001b[39m.\u001b[39mset_aspect(aspect)\n\u001b[1;32m-> <a href='file:///~/AppData/Local/Programs/Python/Python310/lib/site-packages/matplotlib/axes/_axes.py?line=5481'>5482</a>\u001b[0m im \u001b[39m=\u001b[39m mimage\u001b[39m.\u001b[39mAxesImage(\u001b[39mself\u001b[39m, cmap, norm, interpolation,\n\u001b[0;32m   <a href='file:///~/AppData/Local/Programs/Python/Python310/lib/site-packages/matplotlib/axes/_axes.py?line=5482'>5483</a>\u001b[0m                       origin, extent, filternorm\u001b[39m=\u001b[39mfilternorm,\n\u001b[0;32m   <a href='file:///~/AppData/Local/Programs/Python/Python310/lib/site-packages/matplotlib/axes/_axes.py?line=5483'>5484</a>\u001b[0m                       filterrad\u001b[39m=\u001b[39mfilterrad, resample\u001b[39m=\u001b[39mresample,\n\u001b[0;32m   <a href='file:///~/AppData/Local/Programs/Python/Python310/lib/site-packages/matplotlib/axes/_axes.py?line=5484'>5485</a>\u001b[0m                       interpolation_stage\u001b[39m=\u001b[39minterpolation_stage,\n\u001b[0;32m   <a href='file:///~/AppData/Local/Programs/Python/Python310/lib/site-packages/matplotlib/axes/_axes.py?line=5485'>5486</a>\u001b[0m                       \u001b[39m*\u001b[39m\u001b[39m*\u001b[39mkwargs)\n\u001b[0;32m   <a href='file:///~/AppData/Local/Programs/Python/Python310/lib/site-packages/matplotlib/axes/_axes.py?line=5487'>5488</a>\u001b[0m im\u001b[39m.\u001b[39mset_data(X)\n\u001b[0;32m   <a href='file:///~/AppData/Local/Programs/Python/Python310/lib/site-packages/matplotlib/axes/_axes.py?line=5488'>5489</a>\u001b[0m im\u001b[39m.\u001b[39mset_alpha(alpha)\n",
      "File \u001b[1;32m~\\AppData\\Local\\Programs\\Python\\Python310\\lib\\site-packages\\matplotlib\\image.py:929\u001b[0m, in \u001b[0;36mAxesImage.__init__\u001b[1;34m(self, ax, cmap, norm, interpolation, origin, extent, filternorm, filterrad, resample, interpolation_stage, **kwargs)\u001b[0m\n\u001b[0;32m    <a href='file:///~/AppData/Local/Programs/Python/Python310/lib/site-packages/matplotlib/image.py?line=912'>913</a>\u001b[0m \u001b[39mdef\u001b[39;00m \u001b[39m__init__\u001b[39m(\u001b[39mself\u001b[39m, ax,\n\u001b[0;32m    <a href='file:///~/AppData/Local/Programs/Python/Python310/lib/site-packages/matplotlib/image.py?line=913'>914</a>\u001b[0m              cmap\u001b[39m=\u001b[39m\u001b[39mNone\u001b[39;00m,\n\u001b[0;32m    <a href='file:///~/AppData/Local/Programs/Python/Python310/lib/site-packages/matplotlib/image.py?line=914'>915</a>\u001b[0m              norm\u001b[39m=\u001b[39m\u001b[39mNone\u001b[39;00m,\n\u001b[1;32m   (...)\u001b[0m\n\u001b[0;32m    <a href='file:///~/AppData/Local/Programs/Python/Python310/lib/site-packages/matplotlib/image.py?line=923'>924</a>\u001b[0m              \u001b[39m*\u001b[39m\u001b[39m*\u001b[39mkwargs\n\u001b[0;32m    <a href='file:///~/AppData/Local/Programs/Python/Python310/lib/site-packages/matplotlib/image.py?line=924'>925</a>\u001b[0m              ):\n\u001b[0;32m    <a href='file:///~/AppData/Local/Programs/Python/Python310/lib/site-packages/matplotlib/image.py?line=926'>927</a>\u001b[0m     \u001b[39mself\u001b[39m\u001b[39m.\u001b[39m_extent \u001b[39m=\u001b[39m extent\n\u001b[1;32m--> <a href='file:///~/AppData/Local/Programs/Python/Python310/lib/site-packages/matplotlib/image.py?line=928'>929</a>\u001b[0m     \u001b[39msuper\u001b[39m()\u001b[39m.\u001b[39m\u001b[39m__init__\u001b[39m(\n\u001b[0;32m    <a href='file:///~/AppData/Local/Programs/Python/Python310/lib/site-packages/matplotlib/image.py?line=929'>930</a>\u001b[0m         ax,\n\u001b[0;32m    <a href='file:///~/AppData/Local/Programs/Python/Python310/lib/site-packages/matplotlib/image.py?line=930'>931</a>\u001b[0m         cmap\u001b[39m=\u001b[39mcmap,\n\u001b[0;32m    <a href='file:///~/AppData/Local/Programs/Python/Python310/lib/site-packages/matplotlib/image.py?line=931'>932</a>\u001b[0m         norm\u001b[39m=\u001b[39mnorm,\n\u001b[0;32m    <a href='file:///~/AppData/Local/Programs/Python/Python310/lib/site-packages/matplotlib/image.py?line=932'>933</a>\u001b[0m         interpolation\u001b[39m=\u001b[39minterpolation,\n\u001b[0;32m    <a href='file:///~/AppData/Local/Programs/Python/Python310/lib/site-packages/matplotlib/image.py?line=933'>934</a>\u001b[0m         origin\u001b[39m=\u001b[39morigin,\n\u001b[0;32m    <a href='file:///~/AppData/Local/Programs/Python/Python310/lib/site-packages/matplotlib/image.py?line=934'>935</a>\u001b[0m         filternorm\u001b[39m=\u001b[39mfilternorm,\n\u001b[0;32m    <a href='file:///~/AppData/Local/Programs/Python/Python310/lib/site-packages/matplotlib/image.py?line=935'>936</a>\u001b[0m         filterrad\u001b[39m=\u001b[39mfilterrad,\n\u001b[0;32m    <a href='file:///~/AppData/Local/Programs/Python/Python310/lib/site-packages/matplotlib/image.py?line=936'>937</a>\u001b[0m         resample\u001b[39m=\u001b[39mresample,\n\u001b[0;32m    <a href='file:///~/AppData/Local/Programs/Python/Python310/lib/site-packages/matplotlib/image.py?line=937'>938</a>\u001b[0m         interpolation_stage\u001b[39m=\u001b[39minterpolation_stage,\n\u001b[0;32m    <a href='file:///~/AppData/Local/Programs/Python/Python310/lib/site-packages/matplotlib/image.py?line=938'>939</a>\u001b[0m         \u001b[39m*\u001b[39m\u001b[39m*\u001b[39mkwargs\n\u001b[0;32m    <a href='file:///~/AppData/Local/Programs/Python/Python310/lib/site-packages/matplotlib/image.py?line=939'>940</a>\u001b[0m     )\n",
      "File \u001b[1;32m~\\AppData\\Local\\Programs\\Python\\Python310\\lib\\site-packages\\matplotlib\\image.py:260\u001b[0m, in \u001b[0;36m_ImageBase.__init__\u001b[1;34m(self, ax, cmap, norm, interpolation, origin, filternorm, filterrad, resample, interpolation_stage, **kwargs)\u001b[0m\n\u001b[0;32m    <a href='file:///~/AppData/Local/Programs/Python/Python310/lib/site-packages/matplotlib/image.py?line=255'>256</a>\u001b[0m \u001b[39mself\u001b[39m\u001b[39m.\u001b[39maxes \u001b[39m=\u001b[39m ax\n\u001b[0;32m    <a href='file:///~/AppData/Local/Programs/Python/Python310/lib/site-packages/matplotlib/image.py?line=257'>258</a>\u001b[0m \u001b[39mself\u001b[39m\u001b[39m.\u001b[39m_imcache \u001b[39m=\u001b[39m \u001b[39mNone\u001b[39;00m\n\u001b[1;32m--> <a href='file:///~/AppData/Local/Programs/Python/Python310/lib/site-packages/matplotlib/image.py?line=259'>260</a>\u001b[0m \u001b[39mself\u001b[39;49m\u001b[39m.\u001b[39;49mupdate(kwargs)\n",
      "File \u001b[1;32m~\\AppData\\Local\\Programs\\Python\\Python310\\lib\\site-packages\\matplotlib\\artist.py:1064\u001b[0m, in \u001b[0;36mArtist.update\u001b[1;34m(self, props)\u001b[0m\n\u001b[0;32m   <a href='file:///~/AppData/Local/Programs/Python/Python310/lib/site-packages/matplotlib/artist.py?line=1061'>1062</a>\u001b[0m             func \u001b[39m=\u001b[39m \u001b[39mgetattr\u001b[39m(\u001b[39mself\u001b[39m, \u001b[39mf\u001b[39m\u001b[39m\"\u001b[39m\u001b[39mset_\u001b[39m\u001b[39m{\u001b[39;00mk\u001b[39m}\u001b[39;00m\u001b[39m\"\u001b[39m, \u001b[39mNone\u001b[39;00m)\n\u001b[0;32m   <a href='file:///~/AppData/Local/Programs/Python/Python310/lib/site-packages/matplotlib/artist.py?line=1062'>1063</a>\u001b[0m             \u001b[39mif\u001b[39;00m \u001b[39mnot\u001b[39;00m callable(func):\n\u001b[1;32m-> <a href='file:///~/AppData/Local/Programs/Python/Python310/lib/site-packages/matplotlib/artist.py?line=1063'>1064</a>\u001b[0m                 \u001b[39mraise\u001b[39;00m \u001b[39mAttributeError\u001b[39;00m(\u001b[39mf\u001b[39m\u001b[39m\"\u001b[39m\u001b[39m{\u001b[39;00m\u001b[39mtype\u001b[39m(\u001b[39mself\u001b[39m)\u001b[39m.\u001b[39m\u001b[39m__name__\u001b[39m\u001b[39m!r}\u001b[39;00m\u001b[39m object \u001b[39m\u001b[39m\"\u001b[39m\n\u001b[0;32m   <a href='file:///~/AppData/Local/Programs/Python/Python310/lib/site-packages/matplotlib/artist.py?line=1064'>1065</a>\u001b[0m                                      \u001b[39mf\u001b[39m\u001b[39m\"\u001b[39m\u001b[39mhas no property \u001b[39m\u001b[39m{\u001b[39;00mk\u001b[39m!r}\u001b[39;00m\u001b[39m\"\u001b[39m)\n\u001b[0;32m   <a href='file:///~/AppData/Local/Programs/Python/Python310/lib/site-packages/matplotlib/artist.py?line=1065'>1066</a>\u001b[0m             ret\u001b[39m.\u001b[39mappend(func(v))\n\u001b[0;32m   <a href='file:///~/AppData/Local/Programs/Python/Python310/lib/site-packages/matplotlib/artist.py?line=1066'>1067</a>\u001b[0m \u001b[39mif\u001b[39;00m ret:\n",
      "\u001b[1;31mAttributeError\u001b[0m: 'AxesImage' object has no property 'antialiased'"
     ]
    },
    {
     "data": {
      "image/png": "[encoded data removed]",
      "text/plain": [
       "<Figure size 288x288 with 1 Axes>"
      ]
     },
     "metadata": {
      "needs_background": "light"
     },
     "output_type": "display_data"
    }
   ],
   "source": [
    "import numpy as np\n",
    "import matplotlib.pyplot as plt\n",
    "\n",
    "height = int(input(\"Enter height of matrix: \"))\n",
    "width = int(input(\"Enter width of matrix: \"))\n",
    "start = tuple(int(x.strip()) for x in input(\"Enter starting coordinates of the line segment: \").split(','))\n",
    "end = tuple(int(x.strip()) for x in input(\"Enter ending coordinates of the line segment: \").split(','))\n",
    "pt = float(input(\"Enter pixel transperancy\"))\n",
    "\n",
    "matrix = np.zeros((height, width))\n",
    "# Dot\n",
    "if (start == end):\n",
    "    matrix[start[0], end[0]] = pt\n",
    "# Horizontal line:\n",
    "elif (start[0] == end[0]):\n",
    "    if (start[1] > end[1]):\n",
    "        temp = start[1]\n",
    "        start = (start[0], end[1])\n",
    "        end = (end[0], temp)\n",
    "    for h in range (0, height):\n",
    "        if (h == start[0]):\n",
    "            for w in range (0, width):\n",
    "                if (w >=start[1] and w <= end[1]):\n",
    "                    matrix[start[0], w] = pt\n",
    "# Vertical line:\n",
    "elif (start[1] == end[1]):\n",
    "    if (start[0] > end[0]):\n",
    "        temp = start[0]\n",
    "        start = (end[0], start[1])\n",
    "        end = (temp, end[1])\n",
    "    for w in range (0, width):\n",
    "        if (w == start[1]):\n",
    "            for h in range (0, height):\n",
    "                if (h >= start[0] and h <= end[0]):\n",
    "                    matrix[h, start[1]] = pt\n",
    "# Leading Diagonal line\n",
    "elif (start[0] == start[1] and end[0] == end[1]):\n",
    "    if (start[0] > end[0]):\n",
    "        temp = start\n",
    "        start = (end[0], end[1])\n",
    "        end = (temp[0], temp[1])\n",
    "    for h in range (0, height):\n",
    "        for w in range (0, width):\n",
    "            if (h == w and h >= start[0] and h <= end[0]):\n",
    "                matrix[h, w] = pt\n",
    "\n",
    "# Non leading diagonal line\n",
    "elif (abs(start[0] - end[0]) == abs(start[1] - end[1])):\n",
    "    h = start[0]\n",
    "    w = start[1]\n",
    "    if ((h in range(0, height)) and (w in range(0, width))):\n",
    "        matrix[h, w] = pt\n",
    "    while ((h in range(0, height)) and (w in range(0, width)) and (h != end[0]) and (w != end[1])):\n",
    "        if (h < end[0]):\n",
    "            h += 1\n",
    "        elif (h > end[0]):\n",
    "            h -= 1\n",
    "        if (w < end[1]):\n",
    "            w += 1\n",
    "        elif (w > end[1]):\n",
    "            w -= 1\n",
    "        matrix[h, w] = pt\n",
    "else:\n",
    "    print(\"Line segment can't be drawn with provided coordinates\")    \n",
    "# Display matrix\n",
    "print(matrix)\n",
    "# Display line segment\n",
    "plt.matshow(matrix, antialiased = True)\n",
    "plt.colorbar\n",
    "plt.show()\n"
   ]
  },
  {
   "cell_type": "markdown",
   "metadata": {},
   "source": [
    "8. Same as 3, but now with antialiasing, where the numbers in the resulting matrix represent the pixel transparency."
   ]
  },
  {
   "cell_type": "markdown",
   "metadata": {},
   "source": [
    "Completed in question 7. Needs to be clarified"
   ]
  }
 ],
 "metadata": {
  "interpreter": {
   "hash": "9999754dac750629c756766eb0d4ae601c71b0c265cade2ffc918cac30653e24"
  },
  "kernelspec": {
   "display_name": "Python 3.10.2 64-bit",
   "language": "python",
   "name": "python3"
  },
  "language_info": {
   "codemirror_mode": {
    "name": "ipython",
    "version": 3
   },
   "file_extension": ".py",
   "mimetype": "text/x-python",
   "name": "python",
   "nbconvert_exporter": "python",
   "pygments_lexer": "ipython3",
   "version": "3.10.2"
  },
  "orig_nbformat": 4
 },
 "nbformat": 4,
 "nbformat_minor": 2
}
